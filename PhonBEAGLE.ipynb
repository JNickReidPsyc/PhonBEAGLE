{
 "cells": [
  {
   "cell_type": "code",
   "execution_count": 34,
   "id": "820c1f87",
   "metadata": {},
   "outputs": [],
   "source": [
    "from itertools import product\n",
    "import numpy as np\n",
    "import string\n",
    "\n",
    "phone_feature_map = {\n",
    "    'M': ('blb', 'nas'),\n",
    "    'P': ('vls', 'blb', 'stp'),\n",
    "    'B': ('vcd', 'blb', 'stp'),\n",
    "    'F': ('vls', 'lbd', 'frc'),\n",
    "    'V': ('vcd', 'lbd', 'frc'),\n",
    "    'TH': ('vls', 'dnt', 'frc'),\n",
    "    'DH': ('vcd', 'dnt', 'frc'),\n",
    "    'N': ('alv', 'nas'),\n",
    "    'T': ('vls', 'alv', 'stp'),\n",
    "    'D': ('vcd', 'alv', 'stp'),\n",
    "    'S': ('vls', 'alv', 'frc'),\n",
    "    'Z': ('vcd', 'alv', 'frc'),\n",
    "    'R': ('alv', 'apr'),\n",
    "    'L': ('alv', 'lat'),\n",
    "    'SH': ('vls', 'pla', 'frc'),\n",
    "    'ZH': ('vcd', 'pla', 'frc'),\n",
    "    'Y': ('pal', 'apr'),\n",
    "    'NG': ('vel', 'nas'),\n",
    "    'K': ('vls', 'vel', 'stp'),\n",
    "    'G': ('vcd', 'vel', 'stp'),\n",
    "    'W': ('lbv', 'apr'),\n",
    "    'HH': ('glt', 'apr'),\n",
    "    'CH': ('vls', 'alv', 'stp', 'frc'),\n",
    "    'JH': ('vcd', 'alv', 'stp', 'frc'),\n",
    "    'AO': ('lmd', 'bck', 'rnd', 'vwl'),\n",
    "    'AA': ('low', 'bck', 'unr', 'vwl'),\n",
    "    'IY': ('hgh', 'fnt', 'unr', 'vwl'),\n",
    "    'UW': ('hgh', 'bck', 'rnd', 'vwl'),\n",
    "    'EH': ('lmd', 'fnt', 'unr', 'vwl'),\n",
    "    'IH': ('smh', 'fnt', 'unr', 'vwl'),\n",
    "    'UH': ('smh', 'bck', 'rnd', 'vwl'),\n",
    "    'AH': ('mid', 'cnt', 'unr', 'vwl'),\n",
    "    'AE': ('low', 'fnt', 'unr', 'vwl'),\n",
    "    'EY': ('lmd', 'smh', 'fnt', 'unr', 'vwl'),\n",
    "    'AY': ('low', 'smh', 'fnt', 'cnt', 'unr', 'vwl'),\n",
    "    'OW': ('umd', 'smh', 'bck', 'rnd', 'vwl'),\n",
    "    'AW': ('low', 'smh', 'bck', 'cnt', 'unr', 'rnd', 'vwl'),\n",
    "    'OY': ('lmd', 'smh', 'bck', 'fnt', 'rnd', 'unr', 'vwl'),\n",
    "    'ER': ('umd', 'cnt', 'rzd', 'vwl'),\n",
    "    '^': ('beg',),\n",
    "    '$': ('end',)\n",
    "}"
   ]
  },
  {
   "cell_type": "code",
   "execution_count": 35,
   "id": "28d3a45f",
   "metadata": {},
   "outputs": [],
   "source": [
    "with open('cmudict-0.7b-with-vitz-nonce - NR -- UPDATED - Copy.txt', 'r') as f:\n",
    "    df = f.readlines()\n",
    "df = [i.strip() for i in df]"
   ]
  },
  {
   "cell_type": "code",
   "execution_count": 36,
   "id": "bd6fc10b",
   "metadata": {},
   "outputs": [],
   "source": [
    "def keep_letters(x):\n",
    "    return \"\".join([i for i in x if i in string.ascii_letters])"
   ]
  },
  {
   "cell_type": "code",
   "execution_count": 40,
   "id": "50f20636",
   "metadata": {},
   "outputs": [],
   "source": [
    "pronounce_dic = {}\n",
    "for i in df:\n",
    "    if '#' not in i:\n",
    "        data_row = i.split('  ')\n",
    "        word = data_row[0].lower()\n",
    "        phonemes = data_row[1].split(' ')\n",
    "        phonemes = [keep_letters(x) for x in phonemes if keep_letters(x)!='']\n",
    "        pronounce_dic[word] = phonemes"
   ]
  },
  {
   "cell_type": "code",
   "execution_count": null,
   "id": "9fc9d06f",
   "metadata": {},
   "outputs": [],
   "source": []
  },
  {
   "cell_type": "code",
   "execution_count": null,
   "id": "4df58c4b",
   "metadata": {},
   "outputs": [],
   "source": []
  },
  {
   "cell_type": "code",
   "execution_count": 61,
   "id": "e28d545e",
   "metadata": {},
   "outputs": [],
   "source": [
    "feature_bigrams = {}\n",
    "for i in pronounce_dic:\n",
    "    phonemes = ['^'] + pronounce_dic[i] + ['$']\n",
    "    bigram_pairs = []\n",
    "    for x in range(0, (len(phonemes)-1)):\n",
    "        bigram_pairs.extend(list(product(phone_feature_map[phonemes[x]], phone_feature_map[phonemes[x+1]])))\n",
    "    feature_bigrams[i] = bigram_pairs"
   ]
  },
  {
   "cell_type": "code",
   "execution_count": null,
   "id": "5fad5880",
   "metadata": {},
   "outputs": [],
   "source": []
  },
  {
   "cell_type": "code",
   "execution_count": 62,
   "id": "64ca6a6a",
   "metadata": {},
   "outputs": [],
   "source": [
    "sound_features = []\n",
    "for i in phone_feature_map:\n",
    "    for x in phone_feature_map[i]:\n",
    "        sound_features.append(x)"
   ]
  },
  {
   "cell_type": "code",
   "execution_count": 63,
   "id": "d1e5a7f5",
   "metadata": {},
   "outputs": [],
   "source": [
    "sound_features = list(set(sound_features))"
   ]
  },
  {
   "cell_type": "code",
   "execution_count": 64,
   "id": "995640a6",
   "metadata": {},
   "outputs": [],
   "source": [
    "sound_dic = {}\n",
    "for i in range(0, len(sound_features)):\n",
    "    sound_dic[sound_features[i]] = i"
   ]
  },
  {
   "cell_type": "code",
   "execution_count": null,
   "id": "1b1ac9cb",
   "metadata": {},
   "outputs": [],
   "source": []
  },
  {
   "cell_type": "code",
   "execution_count": 65,
   "id": "fa898181",
   "metadata": {},
   "outputs": [],
   "source": [
    "dim = 300"
   ]
  },
  {
   "cell_type": "code",
   "execution_count": 66,
   "id": "f47da4aa",
   "metadata": {},
   "outputs": [],
   "source": [
    "sound_matrix = np.random.normal(0, 1/np.sqrt(dim), size=(len(sound_dic), dim))\n",
    "sound_matrix = np.array(sound_matrix, dtype=np.float32)"
   ]
  },
  {
   "cell_type": "code",
   "execution_count": null,
   "id": "ff22ed4f",
   "metadata": {},
   "outputs": [],
   "source": []
  },
  {
   "cell_type": "code",
   "execution_count": 67,
   "id": "58196717",
   "metadata": {},
   "outputs": [],
   "source": [
    "def conv_circ(signal, ker):\n",
    "    return np.real(np.fft.ifft(np.fft.fft(signal)*np.fft.fft(ker)))"
   ]
  },
  {
   "cell_type": "code",
   "execution_count": 68,
   "id": "f3f52bb6",
   "metadata": {},
   "outputs": [],
   "source": [
    "nums = np.array([i for i in range(0, dim)])\n",
    "E1 = np.random.permutation(nums)\n",
    "E2 = np.random.permutation(nums)"
   ]
  },
  {
   "cell_type": "code",
   "execution_count": null,
   "id": "da9c66be",
   "metadata": {},
   "outputs": [],
   "source": []
  },
  {
   "cell_type": "code",
   "execution_count": 69,
   "id": "14aa9689",
   "metadata": {},
   "outputs": [],
   "source": [
    "word_matrix = []\n",
    "for i in feature_bigrams:\n",
    "    phon_vec = np.zeros(300, dtype=np.float32)\n",
    "    for x in feature_bigrams[i]:\n",
    "        sound_one = sound_matrix[sound_dic[x[0]]]\n",
    "        sound_one = sound_one[E1]\n",
    "        sound_two = sound_matrix[sound_dic[x[1]]]\n",
    "        sound_two = sound_two[E2]\n",
    "        phon_vec += conv_circ(sound_one, sound_two)\n",
    "    word_matrix.append(phon_vec)"
   ]
  },
  {
   "cell_type": "code",
   "execution_count": 78,
   "id": "0dca816f",
   "metadata": {},
   "outputs": [],
   "source": [
    "word_matrix = np.array(word_matrix, dtype=np.float32)"
   ]
  },
  {
   "cell_type": "code",
   "execution_count": 70,
   "id": "4c01bc85",
   "metadata": {},
   "outputs": [],
   "source": [
    "word_list = list(feature_bigrams)\n",
    "word_dic = {}\n",
    "for i in range(0, len(word_list)):\n",
    "    word_dic[word_list[i]] = i"
   ]
  },
  {
   "cell_type": "code",
   "execution_count": null,
   "id": "ab40c4e4",
   "metadata": {},
   "outputs": [],
   "source": []
  },
  {
   "cell_type": "code",
   "execution_count": 71,
   "id": "a02e76bc",
   "metadata": {},
   "outputs": [],
   "source": [
    "def sel_second(x):\n",
    "    return x[1]"
   ]
  },
  {
   "cell_type": "code",
   "execution_count": 74,
   "id": "23397bac",
   "metadata": {},
   "outputs": [],
   "source": [
    "def normalize_vec(x):\n",
    "    if np.sum(x**2) > 0:\n",
    "        normed_vec = x / np.sqrt(np.sum(x**2))\n",
    "    else:\n",
    "        normed_vec = x.copy()\n",
    "    return normed_vec"
   ]
  },
  {
   "cell_type": "code",
   "execution_count": 75,
   "id": "7720da98",
   "metadata": {},
   "outputs": [],
   "source": [
    "def normalize_mat(x):\n",
    "    mag = np.sqrt(np.sum(x**2, axis=1))\n",
    "    normed_mat = np.transpose(np.transpose(x) / mag)\n",
    "    return normed_mat"
   ]
  },
  {
   "cell_type": "code",
   "execution_count": 76,
   "id": "2160f6de",
   "metadata": {},
   "outputs": [],
   "source": [
    "def find_neighbors(word, word_matrix, word_dic, n=20):\n",
    "    sim = normalize_vec(word_matrix[word_dic[word]]) @ np.transpose(normalize_mat(word_matrix))\n",
    "    sim_list = list(zip(list(word_dic), sim))\n",
    "    sim_list.sort(key=sel_second, reverse=True)\n",
    "    return sim_list[:n]"
   ]
  },
  {
   "cell_type": "code",
   "execution_count": 83,
   "id": "a87eaa70",
   "metadata": {},
   "outputs": [
    {
     "data": {
      "text/plain": [
       "[('football', 1.0),\n",
       " (\"football's\", 0.9297924),\n",
       " ('footballs', 0.9297924),\n",
       " ('footfall', 0.77157676),\n",
       " ('foot', 0.7509226),\n",
       " ('foote', 0.7509226),\n",
       " ('footwall', 0.7390779),\n",
       " ('full', 0.7340092),\n",
       " ('vuitton', 0.730436),\n",
       " ('fulmore', 0.714161),\n",
       " ('fulp', 0.7121511),\n",
       " ('spitball', 0.7110773),\n",
       " ('foothold', 0.70784193),\n",
       " ('spoonful', 0.7062919),\n",
       " ('foal', 0.7054054),\n",
       " ('foale', 0.7054054),\n",
       " ('fohl', 0.7054054),\n",
       " ('pfohl', 0.7054054),\n",
       " ('photocall', 0.70331013),\n",
       " ('footman', 0.6972866)]"
      ]
     },
     "execution_count": 83,
     "metadata": {},
     "output_type": "execute_result"
    }
   ],
   "source": [
    "find_neighbors('football', word_matrix, word_dic, n=20)"
   ]
  },
  {
   "cell_type": "code",
   "execution_count": null,
   "id": "e35d86ec",
   "metadata": {},
   "outputs": [],
   "source": []
  }
 ],
 "metadata": {
  "kernelspec": {
   "display_name": "Python 3 (ipykernel)",
   "language": "python",
   "name": "python3"
  },
  "language_info": {
   "codemirror_mode": {
    "name": "ipython",
    "version": 3
   },
   "file_extension": ".py",
   "mimetype": "text/x-python",
   "name": "python",
   "nbconvert_exporter": "python",
   "pygments_lexer": "ipython3",
   "version": "3.11.5"
  }
 },
 "nbformat": 4,
 "nbformat_minor": 5
}
